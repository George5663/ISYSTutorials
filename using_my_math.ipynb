{
  "nbformat": 4,
  "nbformat_minor": 0,
  "metadata": {
    "colab": {
      "name": "using_my_math.ipynb",
      "provenance": [],
      "include_colab_link": true
    },
    "kernelspec": {
      "name": "python3",
      "display_name": "Python 3"
    },
    "language_info": {
      "name": "python"
    }
  },
  "cells": [
    {
      "cell_type": "markdown",
      "metadata": {
        "id": "view-in-github",
        "colab_type": "text"
      },
      "source": [
        "<a href=\"https://colab.research.google.com/github/George5663/ISYSTutorials/blob/main/using_my_math.ipynb\" target=\"_parent\"><img src=\"https://colab.research.google.com/assets/colab-badge.svg\" alt=\"Open In Colab\"/></a>"
      ]
    },
    {
      "cell_type": "markdown",
      "source": [
        "# Test Module: my_math.ipynb\n",
        "\n",
        "In this notebook, write some code to test the functions in *my_math.ipynb* by importing the file as python module. *my_math.ipynb* has some basic arithmetic functions in it.\n",
        "\n",
        "We will try importing as a python script and as a notebook.\n",
        "\n",
        "## Task 0 - Import this notebook to GitHub\n",
        "Save the notebook to your local GitHub repository.\n",
        "\n",
        "## Task 1 - Import as a Python script\n",
        "To do this you will need to:\n",
        "* open my_math.ipynb from the ISYS2001 Worksheets repository\n",
        "* download/save as my_math.py\n",
        "* from this notebook upload my_math.py.  This will put it in the same folder as this notebook.\n",
        "* Import the my_math module\n",
        "\n",
        "    import my_math\n",
        "* write some code to test the functions in my_math module"
      ],
      "metadata": {
        "id": "pM6Ipzg-fJzT"
      }
    },
    {
      "cell_type": "code",
      "execution_count": 3,
      "metadata": {
        "id": "vc2SBxd8fDyE",
        "outputId": "ac4b0e7e-4da1-4f53-e195-861417b43300",
        "colab": {
          "base_uri": "https://localhost:8080/"
        }
      },
      "outputs": [
        {
          "output_type": "stream",
          "name": "stdout",
          "text": [
            "3\n"
          ]
        }
      ],
      "source": [
        "import my_math as math\n",
        "\n",
        "print(math.add(1, 2))"
      ]
    },
    {
      "cell_type": "markdown",
      "source": [
        "## Task 2 - Import as a Notebook\n",
        "\n",
        "To do this you will need:\n",
        "* intall margo loader\n",
        "* open my_math.ipynb from the ISYS2001 Worksheets repository\n",
        "* download as a notebook my_math.ipynb\n",
        "* from this notebook upload my_math.ipynb.  This will put it in the same folder as this notebook.\n",
        "* import the notebook\n",
        "    import margo_loader\n",
        "    import my_math\n",
        "\n",
        "* Wrtie some code to test the functions in my_math notebook \n"
      ],
      "metadata": {
        "id": "3mChsfz3hbv2"
      }
    },
    {
      "cell_type": "code",
      "source": [
        "!pip install git+https://github.com/margo-notebooks/margo-loader-py"
      ],
      "metadata": {
        "id": "QOOQhfvIiOss",
        "outputId": "343fbbd1-ae51-4d75-d495-e55e8b03e0b4",
        "colab": {
          "base_uri": "https://localhost:8080/"
        }
      },
      "execution_count": 4,
      "outputs": [
        {
          "output_type": "stream",
          "name": "stdout",
          "text": [
            "Collecting git+https://github.com/margo-notebooks/margo-loader-py\n",
            "  Cloning https://github.com/margo-notebooks/margo-loader-py to /tmp/pip-req-build-tl5cn8yq\n",
            "  Running command git clone -q https://github.com/margo-notebooks/margo-loader-py /tmp/pip-req-build-tl5cn8yq\n",
            "Collecting margo-parser==0.0.3a\n",
            "  Downloading margo_parser-0.0.3a0-py3-none-any.whl (21 kB)\n",
            "Collecting nbformat==5.0.7\n",
            "  Downloading nbformat-5.0.7-py3-none-any.whl (170 kB)\n",
            "\u001b[K     |████████████████████████████████| 170 kB 19.8 MB/s \n",
            "\u001b[?25hCollecting pyyaml==5.3.1\n",
            "  Downloading PyYAML-5.3.1.tar.gz (269 kB)\n",
            "\u001b[K     |████████████████████████████████| 269 kB 76.0 MB/s \n",
            "\u001b[?25hCollecting lark-parser[regex]==0.10.0\n",
            "  Downloading lark_parser-0.10.0-py2.py3-none-any.whl (87 kB)\n",
            "\u001b[K     |████████████████████████████████| 87 kB 4.3 MB/s \n",
            "\u001b[?25hRequirement already satisfied: regex in /usr/local/lib/python3.7/dist-packages (from lark-parser[regex]==0.10.0->margo-parser==0.0.3a->margo-loader==0.0.3a0) (2019.12.20)\n",
            "Requirement already satisfied: jsonschema!=2.5.0,>=2.4 in /usr/local/lib/python3.7/dist-packages (from nbformat==5.0.7->margo-loader==0.0.3a0) (4.3.3)\n",
            "Requirement already satisfied: traitlets>=4.1 in /usr/local/lib/python3.7/dist-packages (from nbformat==5.0.7->margo-loader==0.0.3a0) (5.1.1)\n",
            "Requirement already satisfied: ipython-genutils in /usr/local/lib/python3.7/dist-packages (from nbformat==5.0.7->margo-loader==0.0.3a0) (0.2.0)\n",
            "Requirement already satisfied: jupyter-core in /usr/local/lib/python3.7/dist-packages (from nbformat==5.0.7->margo-loader==0.0.3a0) (4.9.2)\n",
            "Requirement already satisfied: typing-extensions in /usr/local/lib/python3.7/dist-packages (from jsonschema!=2.5.0,>=2.4->nbformat==5.0.7->margo-loader==0.0.3a0) (3.10.0.2)\n",
            "Requirement already satisfied: importlib-metadata in /usr/local/lib/python3.7/dist-packages (from jsonschema!=2.5.0,>=2.4->nbformat==5.0.7->margo-loader==0.0.3a0) (4.11.3)\n",
            "Requirement already satisfied: attrs>=17.4.0 in /usr/local/lib/python3.7/dist-packages (from jsonschema!=2.5.0,>=2.4->nbformat==5.0.7->margo-loader==0.0.3a0) (21.4.0)\n",
            "Requirement already satisfied: pyrsistent!=0.17.0,!=0.17.1,!=0.17.2,>=0.14.0 in /usr/local/lib/python3.7/dist-packages (from jsonschema!=2.5.0,>=2.4->nbformat==5.0.7->margo-loader==0.0.3a0) (0.18.1)\n",
            "Requirement already satisfied: importlib-resources>=1.4.0 in /usr/local/lib/python3.7/dist-packages (from jsonschema!=2.5.0,>=2.4->nbformat==5.0.7->margo-loader==0.0.3a0) (5.4.0)\n",
            "Requirement already satisfied: zipp>=3.1.0 in /usr/local/lib/python3.7/dist-packages (from importlib-resources>=1.4.0->jsonschema!=2.5.0,>=2.4->nbformat==5.0.7->margo-loader==0.0.3a0) (3.7.0)\n",
            "Building wheels for collected packages: margo-loader, pyyaml\n",
            "  Building wheel for margo-loader (setup.py) ... \u001b[?25l\u001b[?25hdone\n",
            "  Created wheel for margo-loader: filename=margo_loader-0.0.3a0-py3-none-any.whl size=13409 sha256=d4c0d66224e3f0192fb5c94dd24896170e2e0d431c350766a54044baf8da7a7e\n",
            "  Stored in directory: /tmp/pip-ephem-wheel-cache-o3e0nun8/wheels/cc/5c/0b/56074b5ad3fb17011b17e628183e5bc4d62f58ccada9a67924\n",
            "  Building wheel for pyyaml (setup.py) ... \u001b[?25l\u001b[?25hdone\n",
            "  Created wheel for pyyaml: filename=PyYAML-5.3.1-cp37-cp37m-linux_x86_64.whl size=44636 sha256=f64e9d27c52d620d68671bfd7cd5e8451625b688f7190ccc749eb35beafdd760\n",
            "  Stored in directory: /root/.cache/pip/wheels/5e/03/1e/e1e954795d6f35dfc7b637fe2277bff021303bd9570ecea653\n",
            "Successfully built margo-loader pyyaml\n",
            "Installing collected packages: lark-parser, pyyaml, nbformat, margo-parser, margo-loader\n",
            "  Attempting uninstall: pyyaml\n",
            "    Found existing installation: PyYAML 3.13\n",
            "    Uninstalling PyYAML-3.13:\n",
            "      Successfully uninstalled PyYAML-3.13\n",
            "  Attempting uninstall: nbformat\n",
            "    Found existing installation: nbformat 5.2.0\n",
            "    Uninstalling nbformat-5.2.0:\n",
            "      Successfully uninstalled nbformat-5.2.0\n",
            "\u001b[31mERROR: pip's dependency resolver does not currently take into account all the packages that are installed. This behaviour is the source of the following dependency conflicts.\n",
            "nbclient 0.5.13 requires jupyter-client>=6.1.5, but you have jupyter-client 5.3.5 which is incompatible.\u001b[0m\n",
            "Successfully installed lark-parser-0.10.0 margo-loader-0.0.3a0 margo-parser-0.0.3a0 nbformat-5.0.7 pyyaml-5.3.1\n"
          ]
        }
      ]
    },
    {
      "cell_type": "code",
      "source": [
        "import margo_loader\n",
        "import my_math as math\n",
        "\n",
        "print(math.divide(10, 10))"
      ],
      "metadata": {
        "id": "ldMl3xyzVegZ",
        "outputId": "103e9ed9-c905-4d21-dc22-e03e41cbaab6",
        "colab": {
          "base_uri": "https://localhost:8080/"
        }
      },
      "execution_count": 12,
      "outputs": [
        {
          "output_type": "stream",
          "name": "stdout",
          "text": [
            "1.0\n"
          ]
        }
      ]
    }
  ]
}