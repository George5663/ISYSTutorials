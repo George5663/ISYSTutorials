{
  "nbformat": 4,
  "nbformat_minor": 0,
  "metadata": {
    "colab": {
      "name": "DMOJ_Problem.ipynb",
      "provenance": [],
      "authorship_tag": "ABX9TyPh1kaoU9P6vqg+jbboPx4X",
      "include_colab_link": true
    },
    "kernelspec": {
      "name": "python3",
      "display_name": "Python 3"
    },
    "language_info": {
      "name": "python"
    }
  },
  "cells": [
    {
      "cell_type": "markdown",
      "metadata": {
        "id": "view-in-github",
        "colab_type": "text"
      },
      "source": [
        "<a href=\"https://colab.research.google.com/github/George5663/ISYSTutorials/blob/main/DMOJ_Problem.ipynb\" target=\"_parent\"><img src=\"https://colab.research.google.com/assets/colab-badge.svg\" alt=\"Open In Colab\"/></a>"
      ]
    },
    {
      "cell_type": "code",
      "execution_count": 3,
      "metadata": {
        "colab": {
          "base_uri": "https://localhost:8080/"
        },
        "id": "Z4nzjJ3CkHWh",
        "outputId": "24a68769-06f6-4e74-ba38-6ec8cc85353f"
      },
      "outputs": [
        {
          "output_type": "stream",
          "name": "stdout",
          "text": [
            "15\n",
            "3\n",
            "15\n",
            "10\n",
            "20\n",
            "15\n"
          ]
        }
      ],
      "source": [
        "x = int(input())\n",
        "n = int(input())\n",
        "\n",
        "excess = 0\n",
        "\n",
        "for i in range(n):\n",
        "  used = int(input())\n",
        "  excess += (x - used)\n",
        "\n",
        "print(excess + x)"
      ]
    }
  ]
}