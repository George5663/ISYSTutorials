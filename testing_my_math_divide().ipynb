{
  "nbformat": 4,
  "nbformat_minor": 0,
  "metadata": {
    "colab": {
      "name": "testing_my_math.divide().ipynb",
      "provenance": [],
      "include_colab_link": true
    },
    "kernelspec": {
      "name": "python3",
      "display_name": "Python 3"
    },
    "language_info": {
      "name": "python"
    }
  },
  "cells": [
    {
      "cell_type": "markdown",
      "metadata": {
        "id": "view-in-github",
        "colab_type": "text"
      },
      "source": [
        "<a href=\"https://colab.research.google.com/github/George5663/ISYSTutorials/blob/main/testing_my_math_divide().ipynb\" target=\"_parent\"><img src=\"https://colab.research.google.com/assets/colab-badge.svg\" alt=\"Open In Colab\"/></a>"
      ]
    },
    {
      "cell_type": "markdown",
      "source": [
        "## Testing  my_math.divide()\n",
        "\n",
        "What is your preferred testing strategy? Do you like using the assert statement or prefer doctest?  \n",
        "\n",
        "Using your preferred testing strategy, develop a test table and test the following funciton.  Where required update the function so all test behave as expected.\n",
        "\n",
        "\n",
        "## Function to test"
      ],
      "metadata": {
        "id": "LIfoDVzKX7uK"
      }
    },
    {
      "cell_type": "code",
      "source": [
        "def divide(x, y):\n",
        "    if(type(x) != float or type(y) != float):\n",
        "      return \"Inputted variables aren't numbers\"\n",
        "    '''Divide first by second number'''\n",
        "    return x / y"
      ],
      "metadata": {
        "id": "YH9gDoOYvKwg"
      },
      "execution_count": 18,
      "outputs": []
    },
    {
      "cell_type": "code",
      "source": [
        "print(divide(10,2))"
      ],
      "metadata": {
        "id": "n5hbc88JIqXc",
        "outputId": "686b05bf-b192-406c-ade2-a1c95e6c9cab",
        "colab": {
          "base_uri": "https://localhost:8080/"
        }
      },
      "execution_count": 3,
      "outputs": [
        {
          "output_type": "stream",
          "name": "stdout",
          "text": [
            "5.0\n"
          ]
        }
      ]
    },
    {
      "cell_type": "code",
      "source": [
        "print(divide(10.5,2))"
      ],
      "metadata": {
        "id": "tFSR2k3CI2aH",
        "outputId": "a97a8cea-8eee-434d-d79c-52e1456710a4",
        "colab": {
          "base_uri": "https://localhost:8080/"
        }
      },
      "execution_count": 4,
      "outputs": [
        {
          "output_type": "stream",
          "name": "stdout",
          "text": [
            "5.25\n"
          ]
        }
      ]
    },
    {
      "cell_type": "code",
      "source": [
        "print(divide(0,10))"
      ],
      "metadata": {
        "id": "Csa4lrWOJAUY",
        "outputId": "727bab02-0ed7-46a2-86b8-c212d325c5aa",
        "colab": {
          "base_uri": "https://localhost:8080/"
        }
      },
      "execution_count": 5,
      "outputs": [
        {
          "output_type": "stream",
          "name": "stdout",
          "text": [
            "0.0\n"
          ]
        }
      ]
    },
    {
      "cell_type": "code",
      "source": [
        "print(divide('ten',10))"
      ],
      "metadata": {
        "id": "L44YqN8-JFWF",
        "outputId": "9000e420-01d7-4fc7-e303-cb4095834dc2",
        "colab": {
          "base_uri": "https://localhost:8080/",
          "height": 252
        }
      },
      "execution_count": 16,
      "outputs": [
        {
          "output_type": "error",
          "ename": "TypeError",
          "evalue": "ignored",
          "traceback": [
            "\u001b[0;31m---------------------------------------------------------------------------\u001b[0m",
            "\u001b[0;31mTypeError\u001b[0m                                 Traceback (most recent call last)",
            "\u001b[0;32m<ipython-input-16-ae90b7b1974d>\u001b[0m in \u001b[0;36m<module>\u001b[0;34m()\u001b[0m\n\u001b[0;32m----> 1\u001b[0;31m \u001b[0mprint\u001b[0m\u001b[0;34m(\u001b[0m\u001b[0mdivide\u001b[0m\u001b[0;34m(\u001b[0m\u001b[0;34m'ten'\u001b[0m\u001b[0;34m,\u001b[0m\u001b[0;36m10\u001b[0m\u001b[0;34m)\u001b[0m\u001b[0;34m)\u001b[0m\u001b[0;34m\u001b[0m\u001b[0;34m\u001b[0m\u001b[0m\n\u001b[0m",
            "\u001b[0;32m<ipython-input-15-7ec8a44568a7>\u001b[0m in \u001b[0;36mdivide\u001b[0;34m(x, y)\u001b[0m\n\u001b[1;32m      3\u001b[0m       return \"Inputted variables aren't numbers\"'''\n\u001b[1;32m      4\u001b[0m     \u001b[0;34m'''Divide first by second number'''\u001b[0m\u001b[0;34m\u001b[0m\u001b[0;34m\u001b[0m\u001b[0m\n\u001b[0;32m----> 5\u001b[0;31m     \u001b[0;32mreturn\u001b[0m \u001b[0mx\u001b[0m \u001b[0;34m/\u001b[0m \u001b[0my\u001b[0m\u001b[0;34m\u001b[0m\u001b[0;34m\u001b[0m\u001b[0m\n\u001b[0m",
            "\u001b[0;31mTypeError\u001b[0m: unsupported operand type(s) for /: 'str' and 'int'"
          ]
        }
      ]
    },
    {
      "cell_type": "code",
      "source": [
        "print(divide('10',10))"
      ],
      "metadata": {
        "id": "3o_U9NomJcat",
        "outputId": "3d4d8e67-7254-42ac-842b-6b18d2826261",
        "colab": {
          "base_uri": "https://localhost:8080/",
          "height": 252
        }
      },
      "execution_count": 17,
      "outputs": [
        {
          "output_type": "error",
          "ename": "TypeError",
          "evalue": "ignored",
          "traceback": [
            "\u001b[0;31m---------------------------------------------------------------------------\u001b[0m",
            "\u001b[0;31mTypeError\u001b[0m                                 Traceback (most recent call last)",
            "\u001b[0;32m<ipython-input-17-efb5e5e6635b>\u001b[0m in \u001b[0;36m<module>\u001b[0;34m()\u001b[0m\n\u001b[0;32m----> 1\u001b[0;31m \u001b[0mprint\u001b[0m\u001b[0;34m(\u001b[0m\u001b[0mdivide\u001b[0m\u001b[0;34m(\u001b[0m\u001b[0;34m'10'\u001b[0m\u001b[0;34m,\u001b[0m\u001b[0;36m10\u001b[0m\u001b[0;34m)\u001b[0m\u001b[0;34m)\u001b[0m\u001b[0;34m\u001b[0m\u001b[0;34m\u001b[0m\u001b[0m\n\u001b[0m",
            "\u001b[0;32m<ipython-input-15-7ec8a44568a7>\u001b[0m in \u001b[0;36mdivide\u001b[0;34m(x, y)\u001b[0m\n\u001b[1;32m      3\u001b[0m       return \"Inputted variables aren't numbers\"'''\n\u001b[1;32m      4\u001b[0m     \u001b[0;34m'''Divide first by second number'''\u001b[0m\u001b[0;34m\u001b[0m\u001b[0;34m\u001b[0m\u001b[0m\n\u001b[0;32m----> 5\u001b[0;31m     \u001b[0;32mreturn\u001b[0m \u001b[0mx\u001b[0m \u001b[0;34m/\u001b[0m \u001b[0my\u001b[0m\u001b[0;34m\u001b[0m\u001b[0;34m\u001b[0m\u001b[0m\n\u001b[0m",
            "\u001b[0;31mTypeError\u001b[0m: unsupported operand type(s) for /: 'str' and 'int'"
          ]
        }
      ]
    },
    {
      "cell_type": "markdown",
      "source": [
        "AFTER FIXING"
      ],
      "metadata": {
        "id": "cQjLgyw0KnQ1"
      }
    },
    {
      "cell_type": "code",
      "source": [
        "print(divide('ten',10))\n",
        "print(divide('10',10))"
      ],
      "metadata": {
        "id": "KqGj5YxpKpRZ",
        "outputId": "93fa0bfc-83bd-46ce-8829-37cc8d41eca8",
        "colab": {
          "base_uri": "https://localhost:8080/"
        }
      },
      "execution_count": 19,
      "outputs": [
        {
          "output_type": "stream",
          "name": "stdout",
          "text": [
            "Inputted variables aren't numbers\n",
            "Inputted variables aren't numbers\n"
          ]
        }
      ]
    },
    {
      "cell_type": "markdown",
      "source": [
        "## Test Table\n",
        "\n",
        "List you test cases here."
      ],
      "metadata": {
        "id": "JYSZ-53nLF6n"
      }
    },
    {
      "cell_type": "markdown",
      "source": [
        "![image.png](data:image/png;base64,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)"
      ],
      "metadata": {
        "id": "PSw1ToJcLIWS"
      }
    }
  ]
}