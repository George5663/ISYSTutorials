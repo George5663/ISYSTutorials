{
  "nbformat": 4,
  "nbformat_minor": 0,
  "metadata": {
    "colab": {
      "name": "DMOJ problem ccc18s1.ipynb",
      "provenance": [],
      "authorship_tag": "ABX9TyOENnpNBM/Sz9eLg/fBiM4e",
      "include_colab_link": true
    },
    "kernelspec": {
      "name": "python3",
      "display_name": "Python 3"
    },
    "language_info": {
      "name": "python"
    }
  },
  "cells": [
    {
      "cell_type": "markdown",
      "metadata": {
        "id": "view-in-github",
        "colab_type": "text"
      },
      "source": [
        "<a href=\"https://colab.research.google.com/github/George5663/ISYSTutorials/blob/main/DMOJ_problem_ccc18s1.ipynb\" target=\"_parent\"><img src=\"https://colab.research.google.com/assets/colab-badge.svg\" alt=\"Open In Colab\"/></a>"
      ]
    },
    {
      "cell_type": "code",
      "execution_count": 1,
      "metadata": {
        "colab": {
          "base_uri": "https://localhost:8080/"
        },
        "id": "FD2crbHXocx-",
        "outputId": "61a8eff0-f98a-4bd7-91b5-4a6f4936a8e6"
      },
      "outputs": [
        {
          "output_type": "stream",
          "name": "stdout",
          "text": [
            "How many villages are there?5\n",
            "Please input the village numbers:\n",
            "10\n",
            "0\n",
            "4\n",
            "15\n",
            "16\n",
            "3.0\n"
          ]
        }
      ],
      "source": [
        "village_number = int(input(\"How many villages are there? \"))\n",
        "\n",
        "village_posistions = []\n",
        "\n",
        "print('Please input the village numbers:')\n",
        "\n",
        "for i in range(village_number):\n",
        "  village_posistions.append(int(input()))\n",
        "\n",
        "village_posistions.sort()\n",
        "\n",
        "village_sizes = []\n",
        "\n",
        "for i in range(1,village_number-1):\n",
        "  left = (village_posistions[i] - village_posistions[i-1])/2\n",
        "  right = (village_posistions[i+1] - village_posistions[i])/2\n",
        "  village_sizes.append(left+right)\n",
        "print(min(village_sizes))"
      ]
    }
  ]
}